{
 "cells": [
  {
   "cell_type": "markdown",
   "metadata": {},
   "source": [
    "# Quickstart: Generating Insights using Langchain\n",
    "Here is how you can setup your own insight generator\n",
    "\n",
    "Make sure you have your `SERPER_API_KEY` and `OPEN_AI_API_KEY` in your env"
   ]
  },
  {
   "cell_type": "code",
   "execution_count": 4,
   "metadata": {},
   "outputs": [],
   "source": [
    "from langchain.chat_models import ChatOpenAI\n",
    "from langchain.agents.tools import Tool\n",
    "from langchain.prompts.chat import SystemMessage\n",
    "from langchain.utilities import GoogleSerperAPIWrapper\n",
    "import os\n",
    "\n",
    "search = GoogleSerperAPIWrapper(serper_api_key=os.environ.get(\"SERPER_API_KEY\"))\n",
    "llm = ChatOpenAI(temperature=0, openai_api_key=os.environ.get(\"OPEN_AI_API_KEY\"), model=\"gpt-4-0613\")"
   ]
  },
  {
   "cell_type": "markdown",
   "metadata": {},
   "source": [
    "## Tools for our agent\n",
    "We had decided to give our agents the ability to\n",
    "- Search for a query using the web\n",
    "- Scrape a page to find out more info"
   ]
  },
  {
   "cell_type": "code",
   "execution_count": 63,
   "metadata": {},
   "outputs": [
    {
     "data": {
      "text/plain": [
       "[{'title': 'Amazon Deforestation — How Much of the Rainforest is Left? - Sentient Media',\n",
       "  'link': 'https://sentientmedia.org/amazon-deforestation/',\n",
       "  'snippet': 'Cattle ranching is a leading driver of deforestation in the Amazon, accounting for around 80 percent of the destruction there, and the release of 340 million ...',\n",
       "  'position': 1}]"
      ]
     },
     "execution_count": 63,
     "metadata": {},
     "output_type": "execute_result"
    }
   ],
   "source": [
    "# custom search tool, we copied the serper integration on langchain but we prefer all the data to be displayed in one json message\n",
    "\n",
    "from typing import Any, List, Literal\n",
    "import requests\n",
    "\n",
    "k: int = 5\n",
    "gl: str = \"us\"\n",
    "hl: str = \"en\"\n",
    "tbs = None\n",
    "serper_api_key=os.environ.get(\"SERPER_API_KEY\")\n",
    "search_type: Literal[\"news\", \"search\", \"places\", \"images\"] = \"search\"\n",
    "\n",
    "def serper_search(\n",
    "        search_term: str, search_type: str = \"search\", **kwargs: Any\n",
    "    ) -> dict:\n",
    "    headers = {\n",
    "        \"X-API-KEY\": serper_api_key or \"\",\n",
    "        \"Content-Type\": \"application/json\",\n",
    "    }\n",
    "    params = {\n",
    "        \"q\": search_term,\n",
    "        **{key: value for key, value in kwargs.items() if value is not None},\n",
    "    }\n",
    "    response = requests.post(\n",
    "        f\"https://google.serper.dev/{search_type}\", headers=headers, params=params\n",
    "    )\n",
    "    response.raise_for_status()\n",
    "    search_results = response.json()\n",
    "    return search_results\n",
    "\n",
    "def parse_snippets(results: dict) -> List[str]:\n",
    "    result_key_for_type = {\n",
    "        \"news\": \"news\",\n",
    "        \"places\": \"places\",\n",
    "        \"images\": \"images\",\n",
    "        \"search\": \"organic\",\n",
    "    }\n",
    "    snippets = []\n",
    "    if results.get(\"answerBox\"):\n",
    "        answer_box = results.get(\"answerBox\", {})\n",
    "        if answer_box.get(\"answer\"):\n",
    "            snippets.append(answer_box.get(\"answer\"))\n",
    "        elif answer_box.get(\"snippet\"):\n",
    "            snippets.append(answer_box.get(\"snippet\").replace(\"\\n\", \" \"))\n",
    "        elif answer_box.get(\"snippetHighlighted\"):\n",
    "            snippets.append(answer_box.get(\"snippetHighlighted\"))\n",
    "\n",
    "    if results.get(\"knowledgeGraph\"):\n",
    "        kg = results.get(\"knowledgeGraph\", {})\n",
    "        title = kg.get(\"title\")\n",
    "        entity_type = kg.get(\"type\")\n",
    "        if entity_type:\n",
    "            snippets.append(f\"{title}: {entity_type}.\")\n",
    "        description = kg.get(\"description\")\n",
    "        if description:\n",
    "            snippets.append(description)\n",
    "        for attribute, value in kg.get(\"attributes\", {}).items():\n",
    "            snippets.append(f\"{title} {attribute}: {value}.\")\n",
    "\n",
    "    for result in results[result_key_for_type[search_type]][:k]:\n",
    "        if \"snippet\" in result:\n",
    "            snippets.append(result)\n",
    "            # snippets.append(scrape_page(result[\"link\"], result[\"title\"]))\n",
    "        # for attribute, value in result.get(\"attributes\", {}).items():\n",
    "        #     snippets.append(f\"{attribute}: {value}.\")\n",
    "\n",
    "        # print(result)\n",
    "\n",
    "    if len(snippets) == 0:\n",
    "        return [\"No good Google Search Result was found\"]\n",
    "    return snippets\n",
    "\n",
    "def parse_results(results: dict) -> str:\n",
    "        snippets = parse_snippets(results)\n",
    "        results_string = \"\"\n",
    "        for idx, val in enumerate(snippets):\n",
    "            results_string += f\"Result {idx}: \" + str(val) + \"\\n\"\n",
    "        return results_string\n",
    "\n",
    "def custom_search(query: str, parse=True, **kwargs: Any):\n",
    "    results = serper_search(\n",
    "            search_term=query,\n",
    "            gl=gl,\n",
    "            hl=hl,\n",
    "            num=k,\n",
    "            tbs=tbs,\n",
    "            search_type=search_type,\n",
    "            **kwargs,\n",
    "        )\n",
    "    return parse_results(results)\n",
    "    \n",
    "def get_search_results(query: str, **kwargs: Any):\n",
    "    results = serper_search(\n",
    "            search_term=query,\n",
    "            gl=gl,\n",
    "            hl=hl,\n",
    "            num=k,\n",
    "            tbs=tbs,\n",
    "            search_type=search_type,\n",
    "            **kwargs,\n",
    "        )\n",
    "    return parse_snippets(results)\n",
    "\n",
    "def get_first_search_result(query: str, **kwargs: Any):\n",
    "    results = serper_search(\n",
    "            search_term=query,\n",
    "            gl=gl,\n",
    "            hl=hl,\n",
    "            num=1,\n",
    "            tbs=tbs,\n",
    "            search_type=search_type,\n",
    "            **kwargs,\n",
    "        )\n",
    "    return parse_snippets(results)\n",
    "\n",
    "# test custom search\n",
    "# custom_search(\"statistics of deforestation in the amazon\")\n",
    "search_res = get_first_search_result(\"statistics of deforestation in the amazon\")\n",
    "search_res"
   ]
  },
  {
   "cell_type": "code",
   "execution_count": 48,
   "metadata": {},
   "outputs": [
    {
     "data": {
      "text/plain": [
       "\"\\nAmazon Deforestation — How Much of the Rainforest Is Left?  The truth sounds unbelievable, and certainly counterintuitive, when talking about what should be the planet’s lungs: animal agriculture, logging, mining, infrastructure and urban development caused some parts of the Amazon rainforest to emit more carbon dioxide than it absorbs in 2021. Deforestation in the Amazon has eliminated thousands of species of wildlife and plants, put the lives of local communities at risk and crippled one of nature’s most important tools in storing carbon and staving off the climate crisis.\\xa0According to the World Resources Institute, the Amazon rainforest remains a net carbon sink, just barely, and that’s thanks to strong protections in lands managed by Indigenous communities. Let’s take a look at how we got here, and what can be done to restore this crucial rainforest.\\xa0 The Amazon Rainforest Is a Critical Tool for Climate Action Not only does the rainforest provide a habitat for thousands of species of wildlife and millions of plant species, but it plays an important role in counteracting global climate change. By current estimates, the Amazon holds around 150 billion tons of carbon, which would otherwise be released into the atmosphere in the form of carbon dioxide emissions.  The Amazon Rainforest Spans Eight Countries The rainforest spans parts of Venezuela, Guyana, Suriname, Brazil, Bolivia, Peru, Ecuador and Colombia. Brazil contains the largest portion of this natural resource — just over 1.5 million square miles of the Amazon. Brazil is also where the majority of deforestation took place in 2021. How Big Is the Amazon Rainforest? The world’s most well-known rainforest covers approximately 2.72 million square miles in total, equivalent to twice the size of India. The Amazon river that flows through it is 4,100 miles long. How Much of the Amazon Rainforest Has Been Explored? Much of the Amazon rainforest remains unexplored — and its remoteness helps limit its destruction. In fact, the ancient ruins of vast cities were recently discovered in the midst of the forest.\\xa0 Native wildlife flora and fauna are still able to flourish in the most remote areas, and Indigenous people are able to remain isolated. Researchers believe there are still several dozen communities of Indigenous people in the Amazon who have never been in contact with researchers.\\xa0 When Did Deforestation Start in the Amazon? Researchers believe mass deforestation began in the 1960s, driven by land owners and their commercial activities. Why Is the Amazon Rainforest in Danger? Large swaths of the Amazon rainforest have been slashed and burned to be used for intensive animal agriculture, crop production, mining and industrial development. By 2018 these activities, among others, had resulted in the deforestation of 17 percent of the Amazon. In the past 20 years, eight percent of the rainforest has been destroyed as it continues to lose resilience. Cattle Ranching Cattle ranching is a leading driver of deforestation in the Amazon, accounting for around 80 percent of the destruction there, and the release of 340 million tons of carbon per year. The region has experienced an eight percent increase in cattle since 2020. Small-Scale Agriculture The cumulative effects of small-scale agriculture are also devastating the Amazon. Research suggests that an increase in the number of smaller-scale agriculture operations started across Amazonia between 2001 to 2014 are an effort by landowners to deforest while evading government monitoring systems. Agriculture Just like animal agriculture, crop production in the Amazon involves the clearing and burning of large areas of land. The crops grown on these areas of land include soy, sugar cane, palm oil, cotton and rice. Since soy is a key ingredient in animal feed, its demand is rising along with the global demand for meat. In addition to the issues caused by the clearing of such vast areas of the rainforest, agricultural practices such as the use of pesticides and fertilizers have implications for the native wildlife, plant species and Indigenous people of the region. Logging Logging, including illegal logging, is another major culprit when it comes to deforesting the Amazon. Scientists were especially alarmed when they learned that logging is moving deeper into the rainforest instead of staying on the periphery, where it is more easily tracked and monitored. Mining The Amazon region is often mined for gold, copper, iron, manganese and other materials. In order to mine these materials, landowners clear vast areas of forest in order to dig mining pits. Gold mining is on the rise in recent years and, in one area of the Amazon along the Guiana Shield, gold mining accounts for around 90 percent of deforestation. The process of mining gold has further ecological impacts due to its use of mercury, which can contaminate local water supplies. Climate Change Increasing deforestation rates impede the Amazon’s ability to store carbon and counter climate change. In 2021, it was discovered that due to deforestation, parts of the rainforest\\xa0started emitting more carbon than it held.\\xa0 Our changing climate is also having an impact on deforestation. As the forest becomes drier and contains less moisture, it becomes more susceptible to wildfires, which themselves cause critical damage to the environment and biodiversity. Infrastructure The development of road networks has made parts of the rainforest accessible that were previously difficult to reach. The majority of deforestation hotspots in Brazil in 2021 were found along major road networks. Lack of Sufficient Regulations When decision-makers have a simplistic pro-development agenda, they tend to have little regard for the devastating ecological and social impact of deforestation. Destructive activities surged in the Amazon after 2019, when president Bolsonaro’s government in Brazil weakened the protections that were previously put in place to protect the rainforest. Fortunately for the planet, with the election of a new president, Luiz Inácio Lula da Silva, efforts to combat illegal deforestation and protect the rainforest have increased.\\xa0Deforestation is now at a six-year low, in part as a result of those efforts. Lack of Law Enforcement The Brazilian Institute of the Environment and Renewable Natural Resources was set up to monitor activities related to the conservation of natural resources in Brazil. In 2019 and 2020, however, the agency acted on only 1.3 percent of the alerts for illegal deforestation activity in Brazil. Estimates suggest 94 percent of deforestation in the Amazon and the Cerrado may involve illegal activity, or around 18 million hectares of habitat. Though Brazil’s new president is taking steps to remove cattle who are being kept illegally in the rainforest, ranchers, and even some politicians, are attempting to stop the operations.\\xa0 Fires Fires are often started deliberately in the Amazon to clear land for animal agriculture, crop production and other related activities. In addition to intentionally destroying thousands of hectares of the rainforest, fires can easily escape control.\\xa0 While the natural moisture of a rainforest should provide protection from the spread of fire, increasingly dry conditions can impede the rainforest’s ability to protect itself. Wildfires clear even more areas of land, and in turn, increase susceptibility to further fires. Impact on Indigenous People Deforestation is impacting millions of people who live in the Amazon, including Indigenous communities. While there has been much debate over how far pre-Columbian societies altered the landscape of the Amazon, one study published in 2021 suggests that native inhabitants of parts of northeastern Peru have lived there for thousands of years with very little impact on its ecosystem. Impacts on Water Supply Through a process known as transpiration, the Amazon expels large amounts of water into the atmosphere. This water then falls as rain, providing around half of the region’s rainfall. he health of the rainforest and its trees contributes to\\xa0 this process and helps to maintain a functioning water system. If too much of the Amazon is deforested, this natural balance is also in jeopardy.  Impact on Local Temperature With a reduction in the number of trees, the Amazon has less cover, contains and releases less moisture and can no longer cool the local climate in the way it once did.\\xa0 What Are the Solutions to Deforestation? In order to protect the Amazon rainforest, and thus ourselves, it’s necessary to take a multi-faceted approach that engages governments, NGOs, local and Indigenous communities, and nature itself.\\xa0 1. Increased Government Regulations Brazil’s previous president, Jair Bolsonaro, not only failed to enforce laws protecting the Amazon rainforest, but also cut the budgets of the government offices responsible for protecting it. Despite these moves, he did sign onto an international agreement to end deforestation.\\xa0 His successor, President Luiz Inacio Lula da Silva, has taken steps to meet those goals, and made protecting the Amazon a central part of his environmental platform.\\xa0 2. Implementing Nature-Based Solutions Amazon — the corporate giant, not the rainforest — launched a program in 2021 to support nature-based solutions in its namesake. They provide funding and technical support to small-scale farmers who opt to take part in sustainable, plant-based agriculture rather than expanding cattle operations. In exchange, the online marketplace receives carbon credits for the additional carbon being removed from the atmosphere and stored in the farmers’ trees.\\xa0Carbon credit programs, however, are only successful when the removals are real, additional, permanent and measurable; yet a recent investigation published in The Guardian revealed that 90 percent of certified rainforest credits were worthless.  3. Supporting Nonprofit Organizations There are numerous nonprofits involved with preserving and reforesting the Amazon rainforest. Some of the bigger names are The Nature Conservancy and Conservation International. There are also numerous smaller, locally run and organized groups. 4. Reducing or Eliminating Beef and Dairy Consumption Since cattle ranching and feed crop cultivation are the leading causes of deforestation in the Amazon, reducing or eliminating the amount of beef and dairy we consume is a key part of protecting the rainforest.\\xa0 5. Indigenous Land Management Indigenous peoples have lived alongside and stewarded the natural resources of the Amazon Rainforest for thousands of years. Under their watchful eye, the rainforest thrived, and they continue to advocate on the forest’s behalf.\\xa0 How Deforestation in the Amazon Affects Plant and Animal Species As one of the most biodiverse places on earth, the Amazon is home to thousands of different species. Its destruction has lasting implications for all who call it home. When the forest is destroyed, animals lose their homes and food chains are disrupted, leading to species extinctions.\\xa0 Almost 20 Percent of the Amazon Rainforest Has Been Destroyed Since the 1970s In just 50 years, almost 20 percent of the Amazon rainforest has been destroyed. Scientists warn that we’re dangerously close to the forest’s breaking point: 25 percent deforestation. At that point, the forest risks collapsing in on itself and transitioning to scrubby savannah.\\xa0 How Much of the Amazon Rainforest Is Left? Just over 80 percent of the\\xa0rainforest coverage measured in the 1970s still remains. Of that, scientists caution that 38 percent suffers from some sort of degradation.\\xa0Yet recently, much of the deforestation has been halted as a result of more protective environmental policies.  Initiatives To Combat Deforestation and Protect the Amazon Rainforest Environmental advocates are using a number of different tactics to protect and restore the Amazon rainforest. Some point to carbon credits to encourage corporations to invest in the forest’s protection whereas others are encouraging stronger public policy solutions, especially regulations that limit agricultural expansion. Still others take a more grassroots approach to bring attention to the issue and protect the forest.\\xa0 Economic Motivations Driving Deforestation The largest driver of deforestation in the Amazon is animal agriculture. Roughly 80 percent of the deforested land has been converted into pasture land for cattle. The country driving the trend is the United States, which in 2021 bought more than 320 million pounds of Brazilian beef.\\xa0 The Bottom Line The Amazon rainforest is one of the planet’s critical tools for staving off the climate crisis. Yet some parts of the forest have already started emitting more carbon than they absorb — a trend we can’t afford to perpetuate.\\xa0 Research suggests that reducing or eliminating consumption of beef; especially that from JBS, the largest Brazilian beef company, has the potential to halt global deforestation, including in the Amazon rainforest.  The Promises and Pitfalls of Regenerative Agriculture, Explained Whether It’s Grass-Fed or Grass-Finished, Beef Is Still a Problem Explainer: Why Is Beef Bad for the Planet?  Grace is an avid writer and advocate with a passion for exploring animal rights from a social justice lens. She brings almost a decade of varied experience within the animal rights movement to her work as staff writer at Sentient Media. Related Posts Cosmetic Animal Testing Is Cruel – But There Are Alternatives Pigs Are Intelligent and Clean Animals, Actually The 30 Most Intelligent Animals in the World Might Surprise You The Pet Food Industry’s Future, from Plant-Based to Cultivated Meat The Promises and Pitfalls of Regenerative Agriculture, Explained What ‘Sentience’ Means, and Why the Concept Matters for Animals \\nSubscribe to Sentient Media's Newsletter  \\nGet exclusive reporting and analysis on factory farming and animal policy. \""
      ]
     },
     "execution_count": 48,
     "metadata": {},
     "output_type": "execute_result"
    }
   ],
   "source": [
    "# Scraping tool\n",
    "from bs4 import BeautifulSoup\n",
    "import requests\n",
    "\n",
    "banned_sites = [\"calendar.google.com\", \"researchgate.net\"]\n",
    "\n",
    "def scrape_page(url: str):\n",
    "    if any(substring in url for substring in banned_sites):\n",
    "        print(\"Skipping site: {}\".format(url))\n",
    "        return None\n",
    "    \n",
    "    try:\n",
    "        headers = {\n",
    "            'User-Agent': 'Mozilla/5.0 (Macintosh; Intel Mac OS X 10_14_6) AppleWebKit/537.36 (KHTML, like Gecko) Chrome/99.0.4844.84 Safari/537.36',\n",
    "            'Accept': 'text/html,application/xhtml+xml,application/xml;q=0.9,image/avif,image/webp,image/apng,*/*;q=0.8,application/signed-exchange;v=b3;q=0.9',\n",
    "            'Accept-Charset': 'ISO-8859-1,utf-8;q=0.7,*;q=0.3',\n",
    "            'Accept-Encoding': 'none',\n",
    "            'Accept-Language': 'en-US,en;q=0.8',\n",
    "            'Connection': 'keep-alive',\n",
    "        }\n",
    "        response = requests.get(url, headers=headers, timeout=30)\n",
    "        response.raise_for_status()\n",
    "\n",
    "        soup = BeautifulSoup(response.content, 'html.parser')\n",
    "        text = \" \".join([t.get_text() for t in soup.find_all(['p', 'h1', 'h2', 'h3', 'h4', 'h5', 'h6'])])\n",
    "        return text.replace('|','')\n",
    "    except requests.RequestException as e:\n",
    "        print(f\"Failed to fetch {url}. Error: {e}\")\n",
    "        return None\n",
    "        \n",
    "# test scrape page\n",
    "page = scrape_page(search_res[\"link\"])\n",
    "page"
   ]
  },
  {
   "cell_type": "markdown",
   "metadata": {},
   "source": [
    "## [TODO] Improving Search Engine\n",
    "Snippet from search is really bad, it's too short and doesn't give the full context, we want to improve it by scraping the full page for more info\n",
    "Below is an example, it literally just answers the most relevant part of the query with 161 chars, but more insights could be in the page"
   ]
  },
  {
   "cell_type": "code",
   "execution_count": 34,
   "metadata": {},
   "outputs": [
    {
     "name": "stdout",
     "output_type": "stream",
     "text": [
      "161\n"
     ]
    },
    {
     "data": {
      "text/plain": [
       "'Cattle ranching is a leading driver of deforestation in the Amazon, accounting for around 80 percent of the destruction there, and the release of 340 million ...'"
      ]
     },
     "execution_count": 34,
     "metadata": {},
     "output_type": "execute_result"
    }
   ],
   "source": [
    "# snippet\n",
    "print(len(search_res[\"snippet\"]))\n",
    "search_res[\"snippet\"]"
   ]
  },
  {
   "cell_type": "markdown",
   "metadata": {},
   "source": [
    "But just scraping the page will lead to character rate limits, so we want to summarize the page first.\n",
    "But summarization has tradeoffs, it removes the stats we were looking for, it doesn't even respond to our original query, see below for example"
   ]
  },
  {
   "cell_type": "code",
   "execution_count": 40,
   "metadata": {},
   "outputs": [],
   "source": [
    "# SBert Summarizer\n",
    "from summarizer.sbert import SBertSummarizer\n",
    "summarizer = SBertSummarizer('paraphrase-MiniLM-L6-v2')\n",
    "\n",
    "def summarize(text, num_sentences=3):\n",
    "    return summarizer(text, num_sentences=num_sentences)"
   ]
  },
  {
   "cell_type": "code",
   "execution_count": 50,
   "metadata": {},
   "outputs": [
    {
     "name": "stderr",
     "output_type": "stream",
     "text": [
      "/home/kenji/miniforge3/envs/tosg/lib/python3.11/site-packages/sklearn/cluster/_kmeans.py:1416: FutureWarning: The default value of `n_init` will change from 10 to 'auto' in 1.4. Set the value of `n_init` explicitly to suppress the warning\n",
      "  super()._check_params_vs_input(X, default_n_init=10)\n"
     ]
    },
    {
     "name": "stdout",
     "output_type": "stream",
     "text": [
      "\n",
      "--------------N=3----------------\n",
      " Amazon Deforestation — How Much of the Rainforest Is Left? In addition to the issues caused by the clearing of such vast areas of the rainforest, agricultural practices such as the use of pesticides and fertilizers have implications for the native wildlife, plant species and Indigenous people of the region. How Deforestation in the Amazon Affects Plant and Animal Species As one of the most biodiverse places on earth, the Amazon is home to thousands of different species.\n",
      "\n"
     ]
    },
    {
     "name": "stderr",
     "output_type": "stream",
     "text": [
      "/home/kenji/miniforge3/envs/tosg/lib/python3.11/site-packages/sklearn/cluster/_kmeans.py:1416: FutureWarning: The default value of `n_init` will change from 10 to 'auto' in 1.4. Set the value of `n_init` explicitly to suppress the warning\n",
      "  super()._check_params_vs_input(X, default_n_init=10)\n"
     ]
    },
    {
     "name": "stdout",
     "output_type": "stream",
     "text": [
      "\n",
      "--------------N=5----------------\n",
      " Amazon Deforestation — How Much of the Rainforest Is Left? In addition to the issues caused by the clearing of such vast areas of the rainforest, agricultural practices such as the use of pesticides and fertilizers have implications for the native wildlife, plant species and Indigenous people of the region. As the forest becomes drier and contains less moisture, it becomes more susceptible to wildfires, which themselves cause critical damage to the environment and biodiversity. How Deforestation in the Amazon Affects Plant and Animal Species As one of the most biodiverse places on earth, the Amazon is home to thousands of different species. Related Posts Cosmetic Animal Testing Is Cruel – But There Are Alternatives Pigs Are Intelligent and Clean Animals, Actually The 30 Most Intelligent Animals in the World Might Surprise You The Pet Food Industry’s Future, from Plant-Based to Cultivated Meat The Promises and Pitfalls of Regenerative Agriculture, Explained What ‘Sentience’ Means, and Why the Concept Matters for Animals \n",
      "Subscribe to Sentient Media's Newsletter  \n",
      "Get exclusive reporting and analysis on factory farming and animal policy.\n",
      "\n"
     ]
    },
    {
     "name": "stderr",
     "output_type": "stream",
     "text": [
      "/home/kenji/miniforge3/envs/tosg/lib/python3.11/site-packages/sklearn/cluster/_kmeans.py:1416: FutureWarning: The default value of `n_init` will change from 10 to 'auto' in 1.4. Set the value of `n_init` explicitly to suppress the warning\n",
      "  super()._check_params_vs_input(X, default_n_init=10)\n"
     ]
    },
    {
     "name": "stdout",
     "output_type": "stream",
     "text": [
      "\n",
      "--------------N=10----------------\n",
      " Amazon Deforestation — How Much of the Rainforest Is Left? Much of the Amazon rainforest remains unexplored — and its remoteness helps limit its destruction. Mining The Amazon region is often mined for gold, copper, iron, manganese and other materials. In 2021, it was discovered that due to deforestation, parts of the rainforest started emitting more carbon than it held. While the natural moisture of a rainforest should provide protection from the spread of fire, increasingly dry conditions can impede the rainforest’s ability to protect itself. In order to protect the Amazon rainforest, and thus ourselves, it’s necessary to take a multi-faceted approach that engages governments, NGOs, local and Indigenous communities, and nature itself. Carbon credit programs, however, are only successful when the removals are real, additional, permanent and measurable; yet a recent investigation published in The Guardian revealed that 90 percent of certified rainforest credits were worthless. Reducing or Eliminating Beef and Dairy Consumption Since cattle ranching and feed crop cultivation are the leading causes of deforestation in the Amazon, reducing or eliminating the amount of beef and dairy we consume is a key part of protecting the rainforest. How Deforestation in the Amazon Affects Plant and Animal Species As one of the most biodiverse places on earth, the Amazon is home to thousands of different species. Related Posts Cosmetic Animal Testing Is Cruel – But There Are Alternatives Pigs Are Intelligent and Clean Animals, Actually The 30 Most Intelligent Animals in the World Might Surprise You The Pet Food Industry’s Future, from Plant-Based to Cultivated Meat The Promises and Pitfalls of Regenerative Agriculture, Explained What ‘Sentience’ Means, and Why the Concept Matters for Animals \n",
      "Subscribe to Sentient Media's Newsletter  \n",
      "Get exclusive reporting and analysis on factory farming and animal policy.\n",
      "\n",
      "\n",
      "--------------N=15----------------\n",
      " Amazon Deforestation — How Much of the Rainforest Is Left? The truth sounds unbelievable, and certainly counterintuitive, when talking about what should be the planet’s lungs: animal agriculture, logging, mining, infrastructure and urban development caused some parts of the Amazon rainforest to emit more carbon dioxide than it absorbs in 2021. According to the World Resources Institute, the Amazon rainforest remains a net carbon sink, just barely, and that’s thanks to strong protections in lands managed by Indigenous communities. Brazil is also where the majority of deforestation took place in 2021. How Much of the Amazon Rainforest Has Been Explored? Research suggests that an increase in the number of smaller-scale agriculture operations started across Amazonia between 2001 to 2014 are an effort by landowners to deforest while evading government monitoring systems. Mining The Amazon region is often mined for gold, copper, iron, manganese and other materials. As the forest becomes drier and contains less moisture, it becomes more susceptible to wildfires, which themselves cause critical damage to the environment and biodiversity. Deforestation is now at a six-year low, in part as a result of those efforts. This water then falls as rain, providing around half of the region’s rainfall. Increased Government Regulations Brazil’s previous president, Jair Bolsonaro, not only failed to enforce laws protecting the Amazon rainforest, but also cut the budgets of the government offices responsible for protecting it. There are also numerous smaller, locally run and organized groups. How Deforestation in the Amazon Affects Plant and Animal Species As one of the most biodiverse places on earth, the Amazon is home to thousands of different species. The Promises and Pitfalls of Regenerative Agriculture, Explained Whether It’s Grass-Fed or Grass-Finished, Beef Is Still a Problem Explainer: Why Is Beef Bad for the Planet? Grace is an avid writer and advocate with a passion for exploring animal rights from a social justice lens.\n",
      "\n"
     ]
    },
    {
     "name": "stderr",
     "output_type": "stream",
     "text": [
      "/home/kenji/miniforge3/envs/tosg/lib/python3.11/site-packages/sklearn/cluster/_kmeans.py:1416: FutureWarning: The default value of `n_init` will change from 10 to 'auto' in 1.4. Set the value of `n_init` explicitly to suppress the warning\n",
      "  super()._check_params_vs_input(X, default_n_init=10)\n"
     ]
    }
   ],
   "source": [
    "# Test Summarizer with different number of sentences\n",
    "num_sentences_variants = [3, 5, 10, 15]\n",
    "for num_sentences in num_sentences_variants:\n",
    "    print(f\"\\n--------------N={num_sentences}----------------\\n\", summarize(page, num_sentences) + \"\\n\")"
   ]
  },
  {
   "cell_type": "markdown",
   "metadata": {},
   "source": [
    "N=10 seems like a good length"
   ]
  },
  {
   "cell_type": "code",
   "execution_count": 61,
   "metadata": {},
   "outputs": [
    {
     "name": "stdout",
     "output_type": "stream",
     "text": [
      "Number of results 4\n"
     ]
    },
    {
     "name": "stderr",
     "output_type": "stream",
     "text": [
      "/home/kenji/miniforge3/envs/tosg/lib/python3.11/site-packages/sklearn/cluster/_kmeans.py:1416: FutureWarning: The default value of `n_init` will change from 10 to 'auto' in 1.4. Set the value of `n_init` explicitly to suppress the warning\n",
      "  super()._check_params_vs_input(X, default_n_init=10)\n"
     ]
    },
    {
     "name": "stdout",
     "output_type": "stream",
     "text": [
      "\n",
      "--------------N=10----------------\n",
      " Amazon Deforestation — How Much of the Rainforest Is Left? Much of the Amazon rainforest remains unexplored — and its remoteness helps limit its destruction. Mining The Amazon region is often mined for gold, copper, iron, manganese and other materials. In 2021, it was discovered that due to deforestation, parts of the rainforest started emitting more carbon than it held. While the natural moisture of a rainforest should provide protection from the spread of fire, increasingly dry conditions can impede the rainforest’s ability to protect itself. In order to protect the Amazon rainforest, and thus ourselves, it’s necessary to take a multi-faceted approach that engages governments, NGOs, local and Indigenous communities, and nature itself. Carbon credit programs, however, are only successful when the removals are real, additional, permanent and measurable; yet a recent investigation published in The Guardian revealed that 90 percent of certified rainforest credits were worthless. Reducing or Eliminating Beef and Dairy Consumption Since cattle ranching and feed crop cultivation are the leading causes of deforestation in the Amazon, reducing or eliminating the amount of beef and dairy we consume is a key part of protecting the rainforest. How Deforestation in the Amazon Affects Plant and Animal Species As one of the most biodiverse places on earth, the Amazon is home to thousands of different species. Related Posts Cosmetic Animal Testing Is Cruel – But There Are Alternatives Pigs Are Intelligent and Clean Animals, Actually The 30 Most Intelligent Animals in the World Might Surprise You The Pet Food Industry’s Future, from Plant-Based to Cultivated Meat The Promises and Pitfalls of Regenerative Agriculture, Explained What ‘Sentience’ Means, and Why the Concept Matters for Animals \n",
      "Subscribe to Sentient Media's Newsletter  \n",
      "Get exclusive reporting and analysis on factory farming and animal policy.\n",
      "\n"
     ]
    },
    {
     "name": "stderr",
     "output_type": "stream",
     "text": [
      "/home/kenji/miniforge3/envs/tosg/lib/python3.11/site-packages/sklearn/cluster/_kmeans.py:1416: FutureWarning: The default value of `n_init` will change from 10 to 'auto' in 1.4. Set the value of `n_init` explicitly to suppress the warning\n",
      "  super()._check_params_vs_input(X, default_n_init=10)\n"
     ]
    },
    {
     "name": "stdout",
     "output_type": "stream",
     "text": [
      "\n",
      "--------------N=10----------------\n",
      " How big is the Brazilian deforestation issue? Other statistics on the topicAmazon rainforest in Brazil Forestry Ten countries with most forest area 2020 Climate and Weather Number of wildfires in South America 2022, by country Geography & Nature Global tree cover loss 2022, by leading country Climate and Weather Number of wildfires in the Legal Amazon in Brazil 2000-2022 You only have access to basic statistics. Business Solutions including all features. Statistics on\n",
      "                    \n",
      "                    \"\n",
      "                    \n",
      "                        Amazon Rainforest in Brazil\n",
      "                    \n",
      "                    \"\n",
      "                             Other statistics that may interest you Amazon Rainforest in Brazil \n",
      "                Overview\n",
      "             \n",
      "                Deforestation\n",
      "             \n",
      "                Wildfires\n",
      "             \n",
      "                Emissions\n",
      "             \n",
      "                Land use\n",
      "             Further related statistics Further Content: You might find this interesting as well\n",
      "                 Statistics Topics\n",
      "\n"
     ]
    },
    {
     "name": "stderr",
     "output_type": "stream",
     "text": [
      "/home/kenji/miniforge3/envs/tosg/lib/python3.11/site-packages/sklearn/cluster/_kmeans.py:1416: FutureWarning: The default value of `n_init` will change from 10 to 'auto' in 1.4. Set the value of `n_init` explicitly to suppress the warning\n",
      "  super()._check_params_vs_input(X, default_n_init=10)\n"
     ]
    },
    {
     "name": "stdout",
     "output_type": "stream",
     "text": [
      "\n",
      "--------------N=10----------------\n",
      " The Amazon saw record deforestation last year. Last year, the Amazon saw some of the highest rates of deforestation in over a decade, due to a combination of cattle ranching, agriculture, mining and road projects that cleared millions of acres of rainforest. An estimated 1.98 million hectares (4.89 million acres) of forest were cleared in 2022, a 21% increase from 2021 and the highest figure on record except for 2004, when over 2 million hectares (about 5 million acres) were lost. “ Satellite readings show that a lot of the forest loss is concentrated around roads, most notably the Trans-Amazonian Highway in the states of Amazonas, Pará, Rondônia and Acre. Fires also directly impacted another 106,922 hectares (264,210 acres). Peru is also struggling with a Mennonite problem in the central Amazon. And while that and gold mining have received the most attention from policymakers and conservationists, the data suggests that much of the 144,682 hectares (357,517 acres) lost last year in Peru actually came from small-scale agriculture. “ We really target those cases because they’re important, but then you still have this 90% that’s a slow death by a thousand cuts — the expansion that no one really has a handle on.” Now moving into 2023, there’s some concern that the El Niño warm front will exacerbate fires and increase forest loss for the year. We’re optimistic about things going down in Brazil with Lula,” Finer said. “\n",
      "\n",
      "\n",
      "--------------N=10----------------\n",
      " You are using a browser version with limited support for CSS. To obtain\n",
      "            the best experience, we recommend you use a more up to date browser (or turn off compatibility mode in\n",
      "            Internet Explorer). Advertisement The Brazilian Amazon deforestation rate in 2020 is the greatest of the decade \n",
      "Nature Ecology & Evolution\n",
      "volume 5, pages 144–145 (2021)Cite this article\n",
      " 78k Accesses 160 Citations 709 Altmetric Metrics details Subjects To the Editor — In 2012, Brazil achieved an unprecedented feat among tropical countries by reducing deforestation rates in Amazonia by 84% (4,571 km2) compared to the historical peak of 2004, when 27,772 km2 of forests were clear-cut1 (Fig. Although this is not the final number, previous years indicate an average difference of 58 ± 303 km2 between the first estimate and the final consolidated rate1, which will be presented in the first half of 2021. Brazil has clearly failed in its bold intention to reduce deforestation rates. A Portuguese version of this Correspondence is provided in the Supplementary Information. The most strongly indicated actions encompass an urgent deforestation moratorium, supported by financial and human-resources investment in environmental monitoring and law enforcement, revision and strengthening of the PPCDAm, and a coherent plan for regularization and protection of public and indigenous lands. Article \n",
      "    \n",
      "                    Google Scholar \n",
      "                 Cronologia de um Desastre Anunciado: Ações do Governo Bolsonaro para Desmontar as Políticas de Meio Ambiente no Brasil (Associação Nacional dos Servidores de Meio Ambiente (ASCEMA), 2020); https://go.nature.com/39pfY29 Download references Acknowledgements This study was financed in part by the Coordenação de Aperfeiçoamento de Pessoal de Nível Superior – Brasil (CAPES) – Finance Code 001. A.C.M.P., N.S.C., J.B.C.R. and L.E.O.C.A. thank the Brazilian National Council for Scientific and Technological Development (CNPq) for funding (processes 140877/2018-5, 140379/2018-5, 301597/2020-0 and 305054/2016-3, respectively). Ethics declarations Competing interests The authors declare no competing interests.\n",
      "\n"
     ]
    },
    {
     "name": "stderr",
     "output_type": "stream",
     "text": [
      "/home/kenji/miniforge3/envs/tosg/lib/python3.11/site-packages/sklearn/cluster/_kmeans.py:1416: FutureWarning: The default value of `n_init` will change from 10 to 'auto' in 1.4. Set the value of `n_init` explicitly to suppress the warning\n",
      "  super()._check_params_vs_input(X, default_n_init=10)\n"
     ]
    }
   ],
   "source": [
    "# Test Summarizer with n sentences for a custom search\n",
    "n = 10\n",
    "results = get_search_results(\"statistics of deforestation in the amazon\")\n",
    "print(\"Number of results\", len(results))\n",
    "for res in results:\n",
    "    print(f\"\\n--------------N={n}----------------\\n\", summarize(scrape_page(res[\"link\"]), n) + \"\\n\") "
   ]
  },
  {
   "cell_type": "markdown",
   "metadata": {},
   "source": [
    "### New Search Tool\n",
    "Honestly can't really tell how effective this extra details are for the insight generation, need an evaluation metric\n",
    "For now, maybe we can add snippet and summary of the page? So we have the direct query answer and extra context? But at the same time, not flood the rate limit"
   ]
  },
  {
   "cell_type": "code",
   "execution_count": 72,
   "metadata": {},
   "outputs": [
    {
     "name": "stderr",
     "output_type": "stream",
     "text": [
      "/home/kenji/miniforge3/envs/tosg/lib/python3.11/site-packages/sklearn/cluster/_kmeans.py:1416: FutureWarning: The default value of `n_init` will change from 10 to 'auto' in 1.4. Set the value of `n_init` explicitly to suppress the warning\n",
      "  super()._check_params_vs_input(X, default_n_init=10)\n",
      "/home/kenji/miniforge3/envs/tosg/lib/python3.11/site-packages/sklearn/cluster/_kmeans.py:1416: FutureWarning: The default value of `n_init` will change from 10 to 'auto' in 1.4. Set the value of `n_init` explicitly to suppress the warning\n",
      "  super()._check_params_vs_input(X, default_n_init=10)\n",
      "/home/kenji/miniforge3/envs/tosg/lib/python3.11/site-packages/sklearn/cluster/_kmeans.py:1416: FutureWarning: The default value of `n_init` will change from 10 to 'auto' in 1.4. Set the value of `n_init` explicitly to suppress the warning\n",
      "  super()._check_params_vs_input(X, default_n_init=10)\n"
     ]
    },
    {
     "name": "stdout",
     "output_type": "stream",
     "text": [
      "<result0>\n",
      "Title: Amazon Deforestation — How Much of the Rainforest is Left? - Sentient Media\n",
      "Possible answers: Cattle ranching is a leading driver of deforestation in the Amazon, accounting for around 80 percent of the destruction there, and the release of 340 million ...\n",
      "Extra details: <p>Amazon Deforestation — How Much of the Rainforest Is Left? Much of the Amazon rainforest remains unexplored — and its remoteness helps limit its destruction. Mining The Amazon region is often mined for gold, copper, iron, manganese and other materials. In 2021, it was discovered that due to deforestation, parts of the rainforest started emitting more carbon than it held. While the natural moisture of a rainforest should provide protection from the spread of fire, increasingly dry conditions can impede the rainforest’s ability to protect itself. In order to protect the Amazon rainforest, and thus ourselves, it’s necessary to take a multi-faceted approach that engages governments, NGOs, local and Indigenous communities, and nature itself. Carbon credit programs, however, are only successful when the removals are real, additional, permanent and measurable; yet a recent investigation published in The Guardian revealed that 90 percent of certified rainforest credits were worthless. Reducing or Eliminating Beef and Dairy Consumption Since cattle ranching and feed crop cultivation are the leading causes of deforestation in the Amazon, reducing or eliminating the amount of beef and dairy we consume is a key part of protecting the rainforest. How Deforestation in the Amazon Affects Plant and Animal Species As one of the most biodiverse places on earth, the Amazon is home to thousands of different species. Related Posts Cosmetic Animal Testing Is Cruel – But There Are Alternatives Pigs Are Intelligent and Clean Animals, Actually The 30 Most Intelligent Animals in the World Might Surprise You The Pet Food Industry’s Future, from Plant-Based to Cultivated Meat The Promises and Pitfalls of Regenerative Agriculture, Explained What ‘Sentience’ Means, and Why the Concept Matters for Animals \n",
      "Subscribe to Sentient Media's Newsletter  \n",
      "Get exclusive reporting and analysis on factory farming and animal policy.</p>\n",
      "</result0>\n",
      "\n",
      "<result1>\n",
      "Title: Amazon rainforest: Brazil deforestation rate 2022 - Statista\n",
      "Possible answers: According to annual Amazon deforestation statistics, the area destroyed in Brazil has increased by more than 65 percent since 2010.\n",
      "Extra details: <p>How big is the Brazilian deforestation issue? Other statistics on the topicAmazon rainforest in Brazil Forestry Ten countries with most forest area 2020 Climate and Weather Number of wildfires in South America 2022, by country Geography & Nature Global tree cover loss 2022, by leading country Climate and Weather Number of wildfires in the Legal Amazon in Brazil 2000-2022 You only have access to basic statistics. Business Solutions including all features. Statistics on\n",
      "                    \n",
      "                    \"\n",
      "                    \n",
      "                        Amazon Rainforest in Brazil\n",
      "                    \n",
      "                    \"\n",
      "                             Other statistics that may interest you Amazon Rainforest in Brazil \n",
      "                Overview\n",
      "             \n",
      "                Deforestation\n",
      "             \n",
      "                Wildfires\n",
      "             \n",
      "                Emissions\n",
      "             \n",
      "                Land use\n",
      "             Further related statistics Further Content: You might find this interesting as well\n",
      "                 Statistics Topics</p>\n",
      "</result1>\n",
      "\n",
      "<result2>\n",
      "Title: The Amazon saw record deforestation last year. Here's why.\n",
      "Possible answers: It lost a total of 1.4 million hectares (3.45 million acres) of primary forest, making it the worst year of deforestation since a historic peak ...\n",
      "Extra details: <p>The Amazon saw record deforestation last year. Last year, the Amazon saw some of the highest rates of deforestation in over a decade, due to a combination of cattle ranching, agriculture, mining and road projects that cleared millions of acres of rainforest. An estimated 1.98 million hectares (4.89 million acres) of forest were cleared in 2022, a 21% increase from 2021 and the highest figure on record except for 2004, when over 2 million hectares (about 5 million acres) were lost. “ Satellite readings show that a lot of the forest loss is concentrated around roads, most notably the Trans-Amazonian Highway in the states of Amazonas, Pará, Rondônia and Acre. Fires also directly impacted another 106,922 hectares (264,210 acres). Peru is also struggling with a Mennonite problem in the central Amazon. And while that and gold mining have received the most attention from policymakers and conservationists, the data suggests that much of the 144,682 hectares (357,517 acres) lost last year in Peru actually came from small-scale agriculture. “ We really target those cases because they’re important, but then you still have this 90% that’s a slow death by a thousand cuts — the expansion that no one really has a handle on.” Now moving into 2023, there’s some concern that the El Niño warm front will exacerbate fires and increase forest loss for the year. We’re optimistic about things going down in Brazil with Lula,” Finer said. “</p>\n",
      "</result2>\n",
      "\n",
      "<result3>\n",
      "Title: The Brazilian Amazon deforestation rate in 2020 is the greatest of the decade - Nature\n",
      "Possible answers: In 2019, 10,129 km2 of forest was clear-cut, an increase of 34% compared to 2018 (7,536 km2). In 2020, the Brazilian Amazon Deforestation ...\n",
      "Extra details: <p>You are using a browser version with limited support for CSS. To obtain\n",
      "            the best experience, we recommend you use a more up to date browser (or turn off compatibility mode in\n",
      "            Internet Explorer). Advertisement The Brazilian Amazon deforestation rate in 2020 is the greatest of the decade \n",
      "Nature Ecology & Evolution\n",
      "volume 5, pages 144–145 (2021)Cite this article\n",
      " 78k Accesses 160 Citations 709 Altmetric Metrics details Subjects To the Editor — In 2012, Brazil achieved an unprecedented feat among tropical countries by reducing deforestation rates in Amazonia by 84% (4,571 km2) compared to the historical peak of 2004, when 27,772 km2 of forests were clear-cut1 (Fig. Although this is not the final number, previous years indicate an average difference of 58 ± 303 km2 between the first estimate and the final consolidated rate1, which will be presented in the first half of 2021. Brazil has clearly failed in its bold intention to reduce deforestation rates. A Portuguese version of this Correspondence is provided in the Supplementary Information. The most strongly indicated actions encompass an urgent deforestation moratorium, supported by financial and human-resources investment in environmental monitoring and law enforcement, revision and strengthening of the PPCDAm, and a coherent plan for regularization and protection of public and indigenous lands. Article \n",
      "    \n",
      "                    Google Scholar \n",
      "                 Cronologia de um Desastre Anunciado: Ações do Governo Bolsonaro para Desmontar as Políticas de Meio Ambiente no Brasil (Associação Nacional dos Servidores de Meio Ambiente (ASCEMA), 2020); https://go.nature.com/39pfY29 Download references Acknowledgements This study was financed in part by the Coordenação de Aperfeiçoamento de Pessoal de Nível Superior – Brasil (CAPES) – Finance Code 001. A.C.M.P., N.S.C., J.B.C.R. and L.E.O.C.A. thank the Brazilian National Council for Scientific and Technological Development (CNPq) for funding (processes 140877/2018-5, 140379/2018-5, 301597/2020-0 and 305054/2016-3, respectively). Ethics declarations Competing interests The authors declare no competing interests.</p>\n",
      "</result3>\n",
      "\n",
      "\n"
     ]
    },
    {
     "name": "stderr",
     "output_type": "stream",
     "text": [
      "/home/kenji/miniforge3/envs/tosg/lib/python3.11/site-packages/sklearn/cluster/_kmeans.py:1416: FutureWarning: The default value of `n_init` will change from 10 to 'auto' in 1.4. Set the value of `n_init` explicitly to suppress the warning\n",
      "  super()._check_params_vs_input(X, default_n_init=10)\n"
     ]
    }
   ],
   "source": [
    "# duplicated code from above\n",
    "from typing import Any, List, Literal\n",
    "import requests\n",
    "\n",
    "k: int = 5\n",
    "gl: str = \"us\"\n",
    "hl: str = \"en\"\n",
    "tbs = None\n",
    "num_sentences = 10\n",
    "serper_api_key=os.environ.get(\"SERPER_API_KEY\")\n",
    "search_type: Literal[\"news\", \"search\", \"places\", \"images\"] = \"search\"\n",
    "\n",
    "def serper_search(\n",
    "        search_term: str, search_type: str = \"search\", **kwargs: Any\n",
    "    ) -> dict:\n",
    "    headers = {\n",
    "        \"X-API-KEY\": serper_api_key or \"\",\n",
    "        \"Content-Type\": \"application/json\",\n",
    "    }\n",
    "    params = {\n",
    "        \"q\": search_term,\n",
    "        **{key: value for key, value in kwargs.items() if value is not None},\n",
    "    }\n",
    "    response = requests.post(\n",
    "        f\"https://google.serper.dev/{search_type}\", headers=headers, params=params\n",
    "    )\n",
    "    response.raise_for_status()\n",
    "    search_results = response.json()\n",
    "    return search_results\n",
    "\n",
    "def parse_snippets(results: dict) -> List[str]:\n",
    "    result_key_for_type = {\n",
    "        \"news\": \"news\",\n",
    "        \"places\": \"places\",\n",
    "        \"images\": \"images\",\n",
    "        \"search\": \"organic\",\n",
    "    }\n",
    "    snippets = []\n",
    "    if results.get(\"answerBox\"):\n",
    "        answer_box = results.get(\"answerBox\", {})\n",
    "        if answer_box.get(\"answer\"):\n",
    "            snippets.append(answer_box.get(\"answer\"))\n",
    "        elif answer_box.get(\"snippet\"):\n",
    "            snippets.append(answer_box.get(\"snippet\").replace(\"\\n\", \" \"))\n",
    "        elif answer_box.get(\"snippetHighlighted\"):\n",
    "            snippets.append(answer_box.get(\"snippetHighlighted\"))\n",
    "\n",
    "    if results.get(\"knowledgeGraph\"):\n",
    "        kg = results.get(\"knowledgeGraph\", {})\n",
    "        title = kg.get(\"title\")\n",
    "        entity_type = kg.get(\"type\")\n",
    "        if entity_type:\n",
    "            snippets.append(f\"{title}: {entity_type}.\")\n",
    "        description = kg.get(\"description\")\n",
    "        if description:\n",
    "            snippets.append(description)\n",
    "        for attribute, value in kg.get(\"attributes\", {}).items():\n",
    "            snippets.append(f\"{title} {attribute}: {value}.\")\n",
    "\n",
    "    for result in results[result_key_for_type[search_type]][:k]:\n",
    "        if \"snippet\" in result:\n",
    "            page = scrape_page(result[\"link\"])\n",
    "            summarized_page = summarize(page, num_sentences=num_sentences)\n",
    "            if len(summarized_page) == 0:\n",
    "                summarized_page = \"None\"\n",
    "            snippets.append(f\"Title: {result['title']}\\nPossible answers: {result['snippet']}\\nExtra details: <p>{summarized_page}</p>\")\n",
    "\n",
    "    if len(snippets) == 0:\n",
    "        return [\"No good Google Search Result was found\"]\n",
    "    return snippets\n",
    "\n",
    "def parse_results(results: dict) -> str:\n",
    "        snippets = parse_snippets(results)\n",
    "        results_string = \"\"\n",
    "        for idx, val in enumerate(snippets):\n",
    "            results_string += f\"<result{idx}>\\n{val}\\n</result{idx}>\\n\\n\"\n",
    "        return results_string\n",
    "\n",
    "def custom_search(query: str, parse=True, **kwargs: Any):\n",
    "    results = serper_search(\n",
    "            search_term=query,\n",
    "            gl=gl,\n",
    "            hl=hl,\n",
    "            num=k,\n",
    "            tbs=tbs,\n",
    "            search_type=search_type,\n",
    "            **kwargs,\n",
    "        )\n",
    "    return parse_results(results)\n",
    "    \n",
    "# test custom search\n",
    "# custom_search(\"statistics of deforestation in the amazon\")\n",
    "search_res = custom_search(\"statistics of deforestation in the amazon\")\n",
    "print(search_res)"
   ]
  },
  {
   "cell_type": "markdown",
   "metadata": {},
   "source": [
    "## Preparing mock text input"
   ]
  },
  {
   "cell_type": "code",
   "execution_count": 6,
   "metadata": {},
   "outputs": [
    {
     "name": "stdout",
     "output_type": "stream",
     "text": [
      "Processing episode_105_large...\n",
      "Processing episode_174_large...\n",
      "Processing episode_111_large...\n",
      "Processing episode_247_large...\n",
      "Processing episode_098_large...\n",
      "Processing episode_301_large...\n",
      "Processing episode_254_large...\n",
      "Processing episode_112_large...\n",
      "Processing episode_024_large...\n",
      "Processing episode_109_large...\n"
     ]
    },
    {
     "data": {
      "text/plain": [
       "\" He would just maybe muse. It would be nice if something were to happen and then somebody picks it up and does it. Is there, can you steel man the case that, uh, Putin did not have direct or indirect involvement with this? Who, who, who would know, who would know? You know, just the, the international, the reputation perhaps, um, perhaps catalyzed, by Putin himself is that he is the kind of person that would directly or indirectly make those orders. Perhaps the case there is he's somebody to be feared and thereby you want that person out there. Uh, but the act itself, uh, the, the, the poisoning of, uh, Litvinenko and, uh, Oh,, and then the assassination of the Bulgarian, uh, Markov and with a, with the umbrella and, and they all directly traced back to Russian, uh, Soviet intelligence. Uh, and so that's enough to be feared, right? Um, my answer that I gave you is an educated guess, you know, I can't pretend to know this, for sure, but It's frustrating to me because there's a lot of people listening to this would say, but even, uh, sort of would chuckle at the naive nature of the question. But if you actually keep an open mind, you have to understand what is the way that intelligence agencies function? Is it possible to the head of an intelligence agency not to make direct orders of that kind, where there's a distributed No, the head of the intelligence agency would most likely give the order. Even though it's compartmentalized. Yeah, but, but, uh, but not the head of state. Not maybe not the head of state, although, uh, in the case, this is the case in the United States as well, but certainly is the case in Russia. There are close relationships between the head of the FSB and the GRU and personal relationships,\\n not just even The head of the FSB who is now in jail. There's a interesting details, especially, uh, coming out recently around the war in Ukraine. So let me actually ask about the war in Ukraine. What is your analysis of the war in Ukraine from 2014 to the full on invasion of Ukraine\""
      ]
     },
     "execution_count": 6,
     "metadata": {},
     "output_type": "execute_result"
    }
   ],
   "source": [
    "# Way to generate a random test input using transcripts from Lex Fridman's podcast\n",
    "# Make sure you have the transcripts downloaded in the folder lex_whisper_transcripts\n",
    "\n",
    "import test_on_lex\n",
    "\n",
    "transcripts = test_on_lex.load_lex_transcripts(random_n=10, transcript_folder=\"./lex_whisper_transcripts/\", chunk_time_seconds=20)\n",
    "\n",
    "import random\n",
    "def generate_test_input():\n",
    "    idx = random.randint(0, 10)\n",
    "    key = list(transcripts.keys())[idx]\n",
    "    transcript = transcripts[key]\n",
    "    trans_idx = random.randint(10, len(transcript)-10)\n",
    "    latest = transcript[trans_idx:trans_idx+7]\n",
    "    prev_transcripts, curr_transcripts = str.join(\",\", list(latest[0:5])), latest[5]\n",
    "    # return f\"\"\"<Old Transcripts>\n",
    "    # {prev_transcripts}\n",
    "    # <New Transcripts>\n",
    "    # {curr_transcripts}\"\"\"\n",
    "    return prev_transcripts + \"\\n\" + curr_transcripts\n",
    "\n",
    "generate_test_input()"
   ]
  },
  {
   "cell_type": "markdown",
   "metadata": {},
   "source": [
    "## Initialize master and worker agents"
   ]
  },
  {
   "cell_type": "code",
   "execution_count": 18,
   "metadata": {},
   "outputs": [],
   "source": [
    "generate_master_prompt = lambda x: f\"\"\"\n",
    "You are the master agent of \"Convoscope\". \"Convoscope\" is a tool that listens to a user's live conversation and enhances their conversation by providing them with real time \"Insights\". The \"Insights\" you generate should aim to lead the user to deeper understanding, broader perspectives, new ideas, more accurate information, better replies, and enhanced conversations. \n",
    "\n",
    "[Your Objective]\n",
    "\"Convoscope\" is a multi-agent system in which you are the master agent. You will be given direct access to a live stream of transcripts from the user's conversation. Your goal is to utilize your knowledge and tools to generate \"Insights\" for the user.\n",
    "\n",
    "[Your Tools]\n",
    "You have access to \"Agents\", which are like workers in your team that can help you do certain tasks. Imagine you are a human manager and your agents as human workers. You can assign tasks to your agents and they will help you complete the tasks. Speak to them like how you would speak to a human worker, give detailed context and instructions.\n",
    "\n",
    "<Task start>\n",
    "It's now time to generate an \"Insight\" for the following conversation transcript. The \"Insight\" should provide additional understanding beyond what is currently being said in the transcript, it shouldn't be plainly repeating what is being said in the transcripts. If a tool or agent fails to fulfill your request, don't run the same request on the same agent again. \n",
    "\n",
    "In your initial thought, you should first write down a plan to generate the \"Insight\". The plan should include\n",
    "1. Read the incoming conversation transcript and identify the best \"Insight\" you could generate to enhance the user's conversation.  Come up with a general description of the \"Insight\" to generate.\n",
    "2. What tool(s), agent(s), information you need to generate the \"Insight\".\n",
    "3. A final step to almagamate your and your worker agent's work to generate the \"Insight\". The insight should be summarized within 12 words and be in the format `Insight: {{Insert your \"Insight\" here}}`\n",
    "<Task end>\n",
    "\n",
    "<Transcript start>{x}<Transcript end>\n",
    "\"\"\""
   ]
  },
  {
   "cell_type": "code",
   "execution_count": 19,
   "metadata": {},
   "outputs": [],
   "source": [
    "from langchain.agents import initialize_agent\n",
    "from langchain.agents import load_tools\n",
    "from langchain.tools import StructuredTool\n",
    "from langchain.agents import AgentType\n",
    "\n",
    "agents = [[]]\n",
    "\n",
    "statistician_agent = initialize_agent([\n",
    "        Tool(\n",
    "            name=\"Search_Engine\",\n",
    "            func=custom_search,\n",
    "            description=\"Use this tool to search for statistics and facts about a topic. Pass this specific targeted queries and/or keywords to quickly search the WWW to retrieve vast amounts of information on virtually any topic, spanning from academic research and navigation to history, entertainment, and current events.\",\n",
    "        ),\n",
    "    ], llm, agent=AgentType.CHAT_ZERO_SHOT_REACT_DESCRIPTION, verbose=True)\n",
    "\n",
    "def statistician_agent_wrapper(command):\n",
    "    system_prompt = f\"\"\"You are a statistician agent.\\n\"\"\"\n",
    "    return statistician_agent.run(system_prompt + command)\n",
    "\n",
    "devils_advocate_agent = initialize_agent([\n",
    "        Tool(\n",
    "            name=\"Search_Engine\",\n",
    "            func=custom_search,\n",
    "            description=\"Use this tool to search for facts that might contradict the user's current conversation. Pass this specific targeted queries and/or keywords to quickly search the WWW to retrieve vast amounts of information on virtually any topic, spanning from academic research and navigation to history, entertainment, and current events.\",\n",
    "        ),\n",
    "    ], llm, agent=AgentType.CHAT_ZERO_SHOT_REACT_DESCRIPTION, verbose=True)\n",
    "\n",
    "def devils_advocate_agent_wrapper(command):\n",
    "    system_prompt = f\"\"\"\\n\"\"\"\n",
    "    return devils_advocate_agent.run(system_prompt + command)\n",
    "\n",
    "fact_checker_agent = initialize_agent([\n",
    "        Tool(\n",
    "            name=\"Search_Engine\",\n",
    "            func=custom_search,\n",
    "            description=\"Use this tool to search for statistics and facts about a topic. Pass this specific targeted queries and/or keywords to quickly search the WWW to retrieve vast amounts of information on virtually any topic, spanning from academic research and navigation to history, entertainment, and current events.\",\n",
    "        ),\n",
    "    ], llm, agent=AgentType.CHAT_ZERO_SHOT_REACT_DESCRIPTION, verbose=True)\n",
    "\n",
    "def fact_checker_agent_wrapper(command):\n",
    "    system_prompt = f\"\"\"You are a fact checker agent.\\n\"\"\"\n",
    "    return fact_checker_agent.run(system_prompt + command)\n",
    "    \n",
    "master_agent = initialize_agent([\n",
    "        Tool(\n",
    "            name=\"Statistician_Agent\",\n",
    "            func=statistician_agent_wrapper,\n",
    "            description=\"\"\"Call this agent when occurrences in a conversation where statistics and graphs would be useful to the user. It can help you do research for statistics and fetching data.\"\"\",\n",
    "        ),\n",
    "        Tool(\n",
    "            name=\"Devils_Advocate_Agent\",\n",
    "            func=devils_advocate_agent_wrapper,\n",
    "            description=\"\"\"Call this agent when you detect a strong opinion in a sentence and think it would be useful for the user to see a devil's advocate opinion. It can help you do research for counter arguments.\"\"\",\n",
    "        ),\n",
    "        Tool(\n",
    "            name=\"Fact_Checker_Agent\",\n",
    "            func=fact_checker_agent_wrapper,\n",
    "            description=\"\"\"Call this agent if a statement is made which you suspect might be false, and that statement is falsifiable with free and public knowledge. It can help you research for facts.\"\"\",\n",
    "        )\n",
    "    ], llm, agent=AgentType.CHAT_ZERO_SHOT_REACT_DESCRIPTION, max_iterations=10, verbose=True)"
   ]
  },
  {
   "cell_type": "code",
   "execution_count": 21,
   "metadata": {},
   "outputs": [
    {
     "data": {
      "text/plain": [
       "\" that the vaccine was developed so quickly and surprisingly way more effective than it was hoped for. But there could have been other solutions and they completely distracted from us from that. In fact, it distracted us from looking into a bunch of things like the lab leak. And so it's not a pure victory., And there's a lot of people that criticize the overreach of government and all of this. That one of the things that makes the United States great is the individualism and the hesitancy to ideas of mandates. Even if the mandates on mass will have a positive, even strongly positive result,, many Americans will still say no. Because in the long arc of history, saying no in that moment will actually lead to a better country and a better world. So that's a messed up aspect of America, but it's also a beautiful part., We're skeptical even about good things. I agree and certainly we should all be cautious about government overreach, absolutely. And it happens in all kinds of scenarios with incarceration with a thousand things. And we also should be afraid of government underreach, that if there is a problem that could be solved by governments and that's why we have governments in the first place is that there's just certain things that individuals can't do on their own. And that's why we pool our resources and we, in some ways, sacrifice our rights for this common thing. And that's why we don't have, hopefully, people, murderers marauding\\n or people driving 200 miles down the street. We have a process for arriving at a set of common rules. And so, while I fully agree that we need to respect and we need to listen, we need to find that right balance. And you've raised the magic I word, ivermectin. And so, an ivermectin, like my view has always been,\""
      ]
     },
     "execution_count": 21,
     "metadata": {},
     "output_type": "execute_result"
    }
   ],
   "source": [
    "test_transcript = generate_test_input()\n",
    "test_transcript"
   ]
  },
  {
   "cell_type": "code",
   "execution_count": 22,
   "metadata": {},
   "outputs": [
    {
     "name": "stdout",
     "output_type": "stream",
     "text": [
      "\n",
      "\n",
      "\u001b[1m> Entering new AgentExecutor chain...\u001b[0m\n",
      "\u001b[32;1m\u001b[1;3mThought: The conversation revolves around the development of the COVID-19 vaccine, the potential for other solutions, the concept of government overreach, and the role of individualism in American society. The participants also touch on the balance between individual rights and collective safety, and the role of government in maintaining this balance. The mention of ivermectin suggests a discussion on alternative treatments for COVID-19. An insightful addition to this conversation could be a comparison of the effectiveness of vaccines versus alternative treatments like ivermectin, or a statistical analysis of the impact of individualism on public health measures. \n",
      "\n",
      "1. The \"Insight\" to generate: A comparison of the effectiveness of vaccines versus alternative treatments like ivermectin, and a statistical analysis of the impact of individualism on public health measures.\n",
      "2. Tools/Agents needed: Statistician_Agent to fetch data on the effectiveness of vaccines and ivermectin, and to analyze the impact of individualism on public health measures.\n",
      "3. Final step: Summarize the findings from the Statistician_Agent into a concise insight.\n",
      "\n",
      "Action:\n",
      "```\n",
      "{\n",
      "  \"action\": \"Statistician_Agent\",\n",
      "  \"action_input\": {\n",
      "    \"task\": \"Fetch data on the effectiveness of COVID-19 vaccines and ivermectin as a treatment. Also, analyze the impact of individualism on public health measures.\"\n",
      "  }\n",
      "}\n",
      "```\u001b[0m\n",
      "\n",
      "\u001b[1m> Entering new AgentExecutor chain...\u001b[0m\n",
      "\u001b[32;1m\u001b[1;3mThought: To answer this question, I need to gather data on three different topics: the effectiveness of COVID-19 vaccines, the effectiveness of ivermectin as a treatment for COVID-19, and the impact of individualism on public health measures. I'll start by searching for data on the effectiveness of COVID-19 vaccines.\n",
      "Action:\n",
      "```\n",
      "{\n",
      "  \"action\": \"Search_Engine\",\n",
      "  \"action_input\": \"Effectiveness of COVID-19 vaccines\"\n",
      "}\n",
      "```\u001b[0m\n",
      "Observation: \u001b[36;1m\u001b[1;3mResult 0: {'title': 'Comparing the COVID-19 Vaccines: How Are They Different? > News > Yale Medicine', 'link': 'https://www.yalemedicine.org/news/covid-19-vaccine-comparison', 'snippet': 'Earlier studies of its original vaccine showed it to be 90% effective overall against lab-confirmed, symptomatic infection and 100% effective ...', 'date': 'Oct 5, 2023', 'imageUrl': 'https://encrypted-tbn0.gstatic.com/images?q=tbn:ANd9GcRqr7FDxkrJn9ohiCK9QP9sAuST9Uj5eJD-QTo7R6iGGMHK13S-5MCnJ08&s', 'position': 1}\n",
      "Result 1: {'title': 'COVID-19 Vaccine Effectiveness - CDC', 'link': 'https://www.cdc.gov/coronavirus/2019-ncov/vaccines/effectiveness/work.html', 'snippet': 'Vaccine effectiveness is a measure of how well vaccination works under real-world conditions to protect people against health outcomes such ...', 'date': 'Mar 23, 2023', 'imageUrl': 'https://encrypted-tbn0.gstatic.com/images?q=tbn:ANd9GcRcSY-hOgrl_jzbo3i6q9BpD9Ca2KT5tJXuQUVuEJSNCoHFfXSSvYe79qk&s', 'position': 2}\n",
      "Result 2: {'title': 'Safety & effectiveness of COVID-19 vaccines: A narrative review - PMC - NCBI', 'link': 'https://www.ncbi.nlm.nih.gov/pmc/articles/PMC9552389/', 'snippet': 'In clinical trials, three vaccines had higher (>90%) efficacy against COVID-19 infection [Pfizer-BioNTech (~95%), Moderna (~94%) and Sputnik V (~92%)] than the ...', 'sitelinks': [{'title': 'Efficacy/effectiveness of...', 'link': 'https://www.ncbi.nlm.nih.gov/pmc/articles/PMC9552389/#sec-a.h.ftitle'}, {'title': 'Safety and adverse effects of...', 'link': 'https://www.ncbi.nlm.nih.gov/pmc/articles/PMC9552389/#sec-a.h.gtitle'}], 'position': 3}\n",
      "Result 3: {'title': 'Vaccine Effectiveness Studies | CDC', 'link': 'https://www.cdc.gov/coronavirus/2019-ncov/vaccines/effectiveness/how-they-work.html', 'snippet': \"The goal of CDC's COVID-19 vaccine effectiveness program is to generate timely and robust evidence through observational studies under real- ...\", 'date': 'Mar 23, 2023', 'position': 4}\n",
      "Result 4: {'title': 'Get the facts about COVID-19 vaccines - Mayo Clinic', 'link': 'https://www.mayoclinic.org/diseases-conditions/coronavirus/in-depth/coronavirus-vaccine/art-20484859', 'snippet': 'Research done before the spread of the delta and omicron variants has shown that the vaccine is 90% effective at preventing mild, moderate and severe disease ...', 'imageUrl': 'https://encrypted-tbn0.gstatic.com/images?q=tbn:ANd9GcRNPWFSbktsOjpQvSW8-c_6P94pAS9Na3inNeUBUk5kBSJS09LKvZFes1M&s', 'position': 5}\n",
      "\u001b[0m\n",
      "Thought:\u001b[32;1m\u001b[1;3mThe search results indicate that COVID-19 vaccines are highly effective. For instance, the Pfizer-BioNTech vaccine has an efficacy of approximately 95%, Moderna's vaccine has an efficacy of around 94%, and Sputnik V's efficacy is about 92%. These vaccines are effective at preventing lab-confirmed, symptomatic infection. Now, I'll search for data on the effectiveness of ivermectin as a treatment for COVID-19.\n",
      "Action:\n",
      "```\n",
      "{\n",
      "  \"action\": \"Search_Engine\",\n",
      "  \"action_input\": \"Effectiveness of ivermectin as a treatment for COVID-19\"\n",
      "}\n",
      "```\u001b[0m\n",
      "Observation: \u001b[36;1m\u001b[1;3mResult 0: {'title': 'Systematic review and meta-analysis of ivermectin for treatment of COVID-19: evidence beyond the hype - PMC - NCBI', 'link': 'https://www.ncbi.nlm.nih.gov/pmc/articles/PMC9308124/', 'snippet': 'Additionally, we searched for ongoing registered clinical trials at the National Institute of Health United States National Library of Medicine and pre-prints ( ...', 'sitelinks': [{'title': 'Background', 'link': 'https://www.ncbi.nlm.nih.gov/pmc/articles/PMC9308124/#Sec1title'}, {'title': 'Methods', 'link': 'https://www.ncbi.nlm.nih.gov/pmc/articles/PMC9308124/#Sec2title'}, {'title': 'Results', 'link': 'https://www.ncbi.nlm.nih.gov/pmc/articles/PMC9308124/#Sec10title'}, {'title': 'Discussion', 'link': 'https://www.ncbi.nlm.nih.gov/pmc/articles/PMC9308124/#Sec16title'}], 'position': 1}\n",
      "Result 1: {'title': 'Ivermectin - COVID-19 Treatment Guidelines', 'link': 'https://www.covid19treatmentguidelines.nih.gov/therapies/miscellaneous-drugs/ivermectin/', 'snippet': 'Ivermectin is a Food and Drug Administration (FDA)-approved antiparasitic drug used to treat several neglected tropical diseases, including onchocerciasis, ...', 'position': 2}\n",
      "Result 2: {'title': 'At a Higher Dose and Longer Duration, Ivermectin Still Not Effective Against COVID-19', 'link': 'https://jamanetwork.com/journals/jama/fullarticle/2801828', 'snippet': 'A Cochrane meta-analysis of 11 eligible trials examining the efficacy of ivermectin for the treatment of COVID-19 published through April ...', 'date': 'Feb 20, 2023', 'position': 3}\n",
      "Result 3: {'title': 'Effect of Higher-Dose Ivermectin for 6 Days vs Placebo on Time to Sustained Recovery in Outpatients With COVID-19: A Randomized Clinical Trial - JAMA Network', 'link': 'https://jamanetwork.com/journals/jama/fullarticle/2801827', 'snippet': 'This platform randomized clinical trial examines the effectiveness of ivermectin at a targeted dose of 600 μg/kg daily compared with placebo ...', 'date': 'Feb 20, 2023', 'position': 4}\n",
      "Result 4: {'title': 'Effect of Early Treatment with Ivermectin among Patients with Covid-19 | NEJM', 'link': 'https://www.nejm.org/doi/full/10.1056/nejmoa2115869', 'snippet': 'Abstract Background The efficacy of ivermectin in preventing hospitalization or extended observation in an emergency setting among ...', 'date': 'May 5, 2022', 'imageUrl': 'https://encrypted-tbn0.gstatic.com/images?q=tbn:ANd9GcSTbEw5uDM9nzvAZBD6RjE24cqP3rr69YQxea1D4PSICNCaexbYXYXNufc&s', 'position': 5}\n",
      "\u001b[0m\n",
      "Thought:\u001b[32;1m\u001b[1;3mThe search results suggest that ivermectin's effectiveness as a treatment for COVID-19 is not clear. Some studies indicate that it is not effective, even at higher doses and longer durations. The FDA-approved antiparasitic drug is used to treat several neglected tropical diseases, but its efficacy in treating COVID-19 is still under investigation. Now, I'll search for data on the impact of individualism on public health measures.\n",
      "Action:\n",
      "```\n",
      "{\n",
      "  \"action\": \"Search_Engine\",\n",
      "  \"action_input\": \"Impact of individualism on public health measures\"\n",
      "}\n",
      "```\u001b[0m\n",
      "Observation: \u001b[36;1m\u001b[1;3mResult 0: {'title': 'Individualism and the fight against COVID-19 | Humanities and Social Sciences Communications - Nature', 'link': 'https://www.nature.com/articles/s41599-022-01124-5', 'snippet': 'In the presence of an unprecedented pandemic, individualism, through more assertively and unconditionally demanding personal freedom, limits ...', 'date': 'Apr 6, 2022', 'position': 1}\n",
      "Result 1: {'title': '“The Tragedy of the Commons”: How Individualism and Collectivism Affected the Spread of the COVID-19 Pandemic - Frontiers', 'link': 'https://www.frontiersin.org/articles/10.3389/fpubh.2021.627559', 'snippet': 'To test this hypothesis, we first analyzed data collected across 69 countries and examined the relationship between culture and the impact of ...', 'date': 'Jan 11, 2021', 'sitelinks': [{'title': 'Abstract', 'link': 'https://www.frontiersin.org/articles/10.3389/fpubh.2021.627559#h1'}, {'title': 'Introduction', 'link': 'https://www.frontiersin.org/articles/10.3389/fpubh.2021.627559#h2'}, {'title': 'Study 2', 'link': 'https://www.frontiersin.org/articles/10.3389/fpubh.2021.627559#h4'}, {'title': 'Discussion', 'link': 'https://www.frontiersin.org/articles/10.3389/fpubh.2021.627559#h6'}], 'position': 2}\n",
      "Result 2: {'title': 'Collectivism, individualism and COVID-19 prevention: a cross sectional study of personality, culture and behavior among Canadians - PMC - NCBI', 'link': 'https://www.ncbi.nlm.nih.gov/pmc/articles/PMC9067981/', 'snippet': 'Background. Collectivism has been identified as a protective factor against COVID-19 – perhaps due to increased conformity with social norms ...', 'date': 'Apr 30, 2022', 'sitelinks': [{'title': 'The role of individualism...', 'link': 'https://www.ncbi.nlm.nih.gov/pmc/articles/PMC9067981/#S002title'}, {'title': 'Results', 'link': 'https://www.ncbi.nlm.nih.gov/pmc/articles/PMC9067981/#S010title'}, {'title': 'Discussion', 'link': 'https://www.ncbi.nlm.nih.gov/pmc/articles/PMC9067981/#S011title'}], 'position': 3}\n",
      "Result 3: {'title': 'The Role of Collectivism–Individualism in Attitudes Toward Compliance and Psychological Responses During the COVID-19 Pandemic - Frontiers', 'link': 'https://www.frontiersin.org/articles/10.3389/fpsyg.2021.600826', 'snippet': 'Implications of the effect of individual-level cultural orientations on attitudes toward public health compliance and psychological well-being ...', 'date': 'Oct 28, 2021', 'sitelinks': [{'title': 'Abstract', 'link': 'https://www.frontiersin.org/articles/10.3389/fpsyg.2021.600826#h1'}, {'title': 'Health Compliance During...', 'link': 'https://www.frontiersin.org/articles/10.3389/fpsyg.2021.600826#h3'}, {'title': 'Trust', 'link': 'https://www.frontiersin.org/articles/10.3389/fpsyg.2021.600826#h6'}, {'title': 'Discussion', 'link': 'https://www.frontiersin.org/articles/10.3389/fpsyg.2021.600826#h11'}], 'position': 4}\n",
      "Result 4: {'title': 'The relationship between measures of individualism and collectivism and the impact of COVID-19 across nations - ScienceDirect', 'link': 'https://www.sciencedirect.com/science/article/pii/S2666535221000689', 'snippet': 'Individualism was positively correlated with COVID-19 prevalence, mortality and case fatality rates; conversely, measures of collectivism were negatively ...', 'position': 5}\n",
      "\u001b[0m\n",
      "Thought:\u001b[32;1m\u001b[1;3mThe search results suggest that individualism can have a significant impact on public health measures. In the context of a pandemic, individualism, through more assertively and unconditionally demanding personal freedom, can limit the effectiveness of public health measures. Collectivism, on the other hand, has been identified as a protective factor against COVID-19, perhaps due to increased conformity with social norms and public health guidelines. Individualism was found to be positively correlated with COVID-19 prevalence, mortality, and case fatality rates, while measures of collectivism were negatively correlated with these outcomes. \n",
      "\n",
      "Final Answer: COVID-19 vaccines such as Pfizer-BioNTech, Moderna, and Sputnik V have shown high effectiveness, with efficacy rates of approximately 95%, 94%, and 92% respectively. On the other hand, the effectiveness of ivermectin as a treatment for COVID-19 is not clear, with some studies suggesting it is not effective, even at higher doses and longer durations. Individualism can limit the effectiveness of public health measures during a pandemic, as it often involves assertive demands for personal freedom. Conversely, collectivism, characterized by conformity with social norms and public health guidelines, can act as a protective factor against COVID-19.\u001b[0m\n",
      "\n",
      "\u001b[1m> Finished chain.\u001b[0m\n",
      "\n",
      "Observation: \u001b[36;1m\u001b[1;3mCOVID-19 vaccines such as Pfizer-BioNTech, Moderna, and Sputnik V have shown high effectiveness, with efficacy rates of approximately 95%, 94%, and 92% respectively. On the other hand, the effectiveness of ivermectin as a treatment for COVID-19 is not clear, with some studies suggesting it is not effective, even at higher doses and longer durations. Individualism can limit the effectiveness of public health measures during a pandemic, as it often involves assertive demands for personal freedom. Conversely, collectivism, characterized by conformity with social norms and public health guidelines, can act as a protective factor against COVID-19.\u001b[0m\n",
      "Thought:\u001b[32;1m\u001b[1;3mThe data provided by the Statistician_Agent confirms that COVID-19 vaccines have high effectiveness, while the effectiveness of ivermectin is unclear. It also suggests that individualism can limit the effectiveness of public health measures, while collectivism can act as a protective factor. This information can be used to generate an insight that provides a broader perspective on the conversation.\n",
      "\n",
      "Final Answer: Insight: Vaccines show high effectiveness; ivermectin's effectiveness unclear. Individualism can limit public health measures' effectiveness.\u001b[0m\n",
      "\n",
      "\u001b[1m> Finished chain.\u001b[0m\n"
     ]
    },
    {
     "data": {
      "text/plain": [
       "\"Insight: Vaccines show high effectiveness; ivermectin's effectiveness unclear. Individualism can limit public health measures' effectiveness.\""
      ]
     },
     "execution_count": 22,
     "metadata": {},
     "output_type": "execute_result"
    }
   ],
   "source": [
    "master_agent.run(generate_master_prompt(test_transcript))"
   ]
  },
  {
   "cell_type": "markdown",
   "metadata": {},
   "source": [
    "## Next steps\n",
    "- Search engine => Make this scrape and summarize pages\n",
    "- Pushing agents to do realistic things\n",
    "- Ideas\n",
    "  - Generate realistic insights\n",
    "  - Multiple insights ideas\n",
    "  - Only ask to find for data easy to find\n",
    "  - Make the plan less rigid, who should I ask for help and ideas?"
   ]
  },
  {
   "cell_type": "markdown",
   "metadata": {},
   "source": []
  }
 ],
 "metadata": {
  "kernelspec": {
   "display_name": "Python 3",
   "language": "python",
   "name": "python3"
  },
  "language_info": {
   "codemirror_mode": {
    "name": "ipython",
    "version": 3
   },
   "file_extension": ".py",
   "mimetype": "text/x-python",
   "name": "python",
   "nbconvert_exporter": "python",
   "pygments_lexer": "ipython3",
   "version": "3.11.6"
  },
  "orig_nbformat": 4
 },
 "nbformat": 4,
 "nbformat_minor": 2
}
